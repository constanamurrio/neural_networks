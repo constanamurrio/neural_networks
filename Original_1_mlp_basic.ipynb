{
  "nbformat": 4,
  "nbformat_minor": 0,
  "metadata": {
    "colab": {
      "provenance": [],
      "include_colab_link": true
    },
    "kernelspec": {
      "name": "python3",
      "display_name": "Python 3"
    },
    "accelerator": "GPU"
  },
  "cells": [
    {
      "cell_type": "markdown",
      "metadata": {
        "id": "view-in-github",
        "colab_type": "text"
      },
      "source": [
        "<a href=\"https://colab.research.google.com/github/constanamurrio/neural_networks/blob/main/Original_1_mlp_basic.ipynb\" target=\"_parent\"><img src=\"https://colab.research.google.com/assets/colab-badge.svg\" alt=\"Open In Colab\"/></a>"
      ]
    },
    {
      "cell_type": "markdown",
      "metadata": {
        "id": "ORvwib-YSR-p"
      },
      "source": [
        "**BASIC MNIST EXAMPLE WITH MLP**"
      ]
    },
    {
      "cell_type": "markdown",
      "metadata": {
        "id": "CGX8RGwHSSTr"
      },
      "source": [
        "Imports..."
      ]
    },
    {
      "cell_type": "code",
      "source": [
        "!nvidia-smi"
      ],
      "metadata": {
        "colab": {
          "base_uri": "https://localhost:8080/"
        },
        "id": "GadmlFNmRUyN",
        "outputId": "b185d6a5-6c00-41d3-d20d-b469a033e141"
      },
      "execution_count": null,
      "outputs": [
        {
          "output_type": "stream",
          "name": "stdout",
          "text": [
            "Mon Nov 28 17:25:21 2022       \n",
            "+-----------------------------------------------------------------------------+\n",
            "| NVIDIA-SMI 460.32.03    Driver Version: 460.32.03    CUDA Version: 11.2     |\n",
            "|-------------------------------+----------------------+----------------------+\n",
            "| GPU  Name        Persistence-M| Bus-Id        Disp.A | Volatile Uncorr. ECC |\n",
            "| Fan  Temp  Perf  Pwr:Usage/Cap|         Memory-Usage | GPU-Util  Compute M. |\n",
            "|                               |                      |               MIG M. |\n",
            "|===============================+======================+======================|\n",
            "|   0  Tesla T4            Off  | 00000000:00:04.0 Off |                    0 |\n",
            "| N/A   47C    P8     9W /  70W |      0MiB / 15109MiB |      0%      Default |\n",
            "|                               |                      |                  N/A |\n",
            "+-------------------------------+----------------------+----------------------+\n",
            "                                                                               \n",
            "+-----------------------------------------------------------------------------+\n",
            "| Processes:                                                                  |\n",
            "|  GPU   GI   CI        PID   Type   Process name                  GPU Memory |\n",
            "|        ID   ID                                                   Usage      |\n",
            "|=============================================================================|\n",
            "|  No running processes found                                                 |\n",
            "+-----------------------------------------------------------------------------+\n"
          ]
        }
      ]
    },
    {
      "cell_type": "code",
      "metadata": {
        "id": "D8qeBuPiSSdc"
      },
      "source": [
        "from __future__ import print_function\n",
        "\n",
        "import keras\n",
        "from keras.datasets import mnist\n",
        "from keras.models import Sequential\n",
        "from keras.layers import Dense\n",
        "from tensorflow.keras.optimizers import SGD\n",
        "from keras.utils import np_utils"
      ],
      "execution_count": null,
      "outputs": []
    },
    {
      "cell_type": "markdown",
      "metadata": {
        "id": "-M9uBGifSSqd"
      },
      "source": [
        "Define batch size, number of epochs and number of classes\n"
      ]
    },
    {
      "cell_type": "code",
      "metadata": {
        "id": "iaWFWm8mSTBj"
      },
      "source": [
        "batch_size = 128 \n",
        "epochs = 25\n",
        "num_classes=10 #Del 0 al 9"
      ],
      "execution_count": null,
      "outputs": []
    },
    {
      "cell_type": "markdown",
      "metadata": {
        "id": "IKwjPVkoSTLr"
      },
      "source": [
        "Load MNIST and transform"
      ]
    },
    {
      "cell_type": "code",
      "metadata": {
        "id": "fZ9D1F8FSTWW",
        "colab": {
          "base_uri": "https://localhost:8080/"
        },
        "outputId": "6e2cfe7c-6b2a-4807-d31c-17324581d2af"
      },
      "source": [
        "(x_train, y_train), (x_test, y_test) = mnist.load_data() #Tiene acceso directo a la base de datos. \n",
        "\n",
        "print('training set', x_train.shape)\n",
        "print('test set', x_test.shape)\n",
        "\n",
        "x_train = x_train.reshape(60000, 784) # El tensor lo pasamos a dos dimensiones con el reshape de Numpy. Primero las muestras y luego la dimensionalidad propia de los objetos. \n",
        "x_test = x_test.reshape(10000, 784)\n",
        "x_train = x_train.astype('float32')\n",
        "x_test = x_test.astype('float32')\n",
        "\n",
        "# Normalize [0..255]-->[0..1]\n",
        "x_train /= 255\n",
        "x_test /= 255\n",
        "\n",
        "# convert class vectors to binary class matrices\n",
        "y_train = keras.utils.np_utils.to_categorical(y_train, num_classes)\n",
        "y_test = keras.utils.np_utils.to_categorical(y_test, num_classes)"
      ],
      "execution_count": null,
      "outputs": [
        {
          "output_type": "stream",
          "name": "stdout",
          "text": [
            "Downloading data from https://storage.googleapis.com/tensorflow/tf-keras-datasets/mnist.npz\n",
            "11490434/11490434 [==============================] - 2s 0us/step\n",
            "training set (60000, 28, 28)\n",
            "test set (10000, 28, 28)\n"
          ]
        }
      ]
    },
    {
      "cell_type": "markdown",
      "metadata": {
        "id": "24bIWSBXSThW"
      },
      "source": [
        "Define the NN topology, a sequential model with 2 hidden layers"
      ]
    },
    {
      "cell_type": "code",
      "metadata": {
        "id": "pFy6tdc0STtb",
        "colab": {
          "base_uri": "https://localhost:8080/"
        },
        "outputId": "7597227f-f76f-4e2c-f68f-5a1be23afcfc"
      },
      "source": [
        "model = Sequential() #Creamos la red neuronal. Es secuencial, una capa tras otra. \n",
        "model.add(Dense(512, activation='relu', input_shape=(784,))) #Capa de entrada con la dimensionalidad de entrada. \n",
        "model.add(Dense(512, activation='relu')). #Capa oculta. \n",
        "model.add(Dense(num_classes, activation='softmax')) #Capa de salida\n",
        "\n",
        "model.summary()\n",
        "\n",
        "#Param # incluye la dimensionalidad de entrada más el bias (784 x 512 + bias)\n",
        "#Hay capas que puede tener parámetros que no se entrenan\n"
      ],
      "execution_count": null,
      "outputs": [
        {
          "output_type": "stream",
          "name": "stdout",
          "text": [
            "Model: \"sequential\"\n",
            "_________________________________________________________________\n",
            " Layer (type)                Output Shape              Param #   \n",
            "=================================================================\n",
            " dense (Dense)               (None, 512)               401920    \n",
            "                                                                 \n",
            " dense_1 (Dense)             (None, 512)               262656    \n",
            "                                                                 \n",
            " dense_2 (Dense)             (None, 10)                5130      \n",
            "                                                                 \n",
            "=================================================================\n",
            "Total params: 669,706\n",
            "Trainable params: 669,706\n",
            "Non-trainable params: 0\n",
            "_________________________________________________________________\n"
          ]
        }
      ]
    },
    {
      "cell_type": "markdown",
      "metadata": {
        "id": "dkDjl8exTTDZ"
      },
      "source": [
        "Define an optimizer "
      ]
    },
    {
      "cell_type": "code",
      "metadata": {
        "id": "LTRuAT1FTTOw"
      },
      "source": [
        "sgd=SGD(learning_rate=0.01, decay=1e-6, momentum=0.9)\n",
        "#Optimizador y función de pérdida\n",
        "#sdf es Stocastic Gradient Descent"
      ],
      "execution_count": null,
      "outputs": []
    },
    {
      "cell_type": "markdown",
      "metadata": {
        "id": "bHhBHWFjTTYy"
      },
      "source": [
        "Compile the model, define loss and link the optimizer"
      ]
    },
    {
      "cell_type": "code",
      "metadata": {
        "id": "8W8KCPtcTTii"
      },
      "source": [
        "model.compile(loss='categorical_crossentropy',\n",
        "              optimizer=sgd,\n",
        "              metrics=['accuracy'])\n",
        "\n",
        "#Accuracy es un indicador del acierto. \n",
        "#No usamos directamente el error porque la deriva del máximo (el que gana) no existe. "
      ],
      "execution_count": null,
      "outputs": []
    },
    {
      "cell_type": "markdown",
      "metadata": {
        "id": "HBOKdV6MTTtA"
      },
      "source": [
        "Finally, train the model and evaluate over the test data"
      ]
    },
    {
      "cell_type": "code",
      "metadata": {
        "id": "gLPsSdVDTT37",
        "colab": {
          "base_uri": "https://localhost:8080/"
        },
        "outputId": "470240a8-d17d-49ea-cb1f-96d71eeb081d"
      },
      "source": [
        "#Meter el history en el pdf de la entrega. \n",
        "history = model.fit(x_train, y_train,\n",
        "                    batch_size=batch_size,\n",
        "                    epochs=epochs,\n",
        "                    verbose=1, #Que pinte cómo va evolucionando el error\n",
        "                    validation_data=(x_test, y_test))\n",
        "\n",
        "# Evaluate over test\n",
        "score = model.evaluate(x_test, y_test, verbose=0)\n",
        "\n",
        "\n",
        "print('Test loss:', score[0])\n",
        "print('Test accuracy:', score[1])"
      ],
      "execution_count": null,
      "outputs": [
        {
          "output_type": "stream",
          "name": "stdout",
          "text": [
            "Epoch 1/25\n",
            "469/469 [==============================] - 4s 4ms/step - loss: 0.4355 - accuracy: 0.8792 - val_loss: 0.2200 - val_accuracy: 0.9372\n",
            "Epoch 2/25\n",
            "469/469 [==============================] - 2s 4ms/step - loss: 0.1948 - accuracy: 0.9445 - val_loss: 0.1564 - val_accuracy: 0.9552\n",
            "Epoch 3/25\n",
            "469/469 [==============================] - 2s 3ms/step - loss: 0.1410 - accuracy: 0.9596 - val_loss: 0.1278 - val_accuracy: 0.9620\n",
            "Epoch 4/25\n",
            "469/469 [==============================] - 2s 3ms/step - loss: 0.1115 - accuracy: 0.9676 - val_loss: 0.1073 - val_accuracy: 0.9682\n",
            "Epoch 5/25\n",
            "469/469 [==============================] - 2s 3ms/step - loss: 0.0899 - accuracy: 0.9741 - val_loss: 0.0960 - val_accuracy: 0.9715\n",
            "Epoch 6/25\n",
            "469/469 [==============================] - 2s 3ms/step - loss: 0.0748 - accuracy: 0.9787 - val_loss: 0.0836 - val_accuracy: 0.9744\n",
            "Epoch 7/25\n",
            "469/469 [==============================] - 2s 4ms/step - loss: 0.0635 - accuracy: 0.9820 - val_loss: 0.0779 - val_accuracy: 0.9769\n",
            "Epoch 8/25\n",
            "469/469 [==============================] - 2s 4ms/step - loss: 0.0543 - accuracy: 0.9850 - val_loss: 0.0812 - val_accuracy: 0.9750\n",
            "Epoch 9/25\n",
            "469/469 [==============================] - 2s 4ms/step - loss: 0.0471 - accuracy: 0.9870 - val_loss: 0.0733 - val_accuracy: 0.9771\n",
            "Epoch 10/25\n",
            "469/469 [==============================] - 2s 4ms/step - loss: 0.0413 - accuracy: 0.9892 - val_loss: 0.0716 - val_accuracy: 0.9773\n",
            "Epoch 11/25\n",
            "469/469 [==============================] - 2s 4ms/step - loss: 0.0352 - accuracy: 0.9909 - val_loss: 0.0660 - val_accuracy: 0.9806\n",
            "Epoch 12/25\n",
            "469/469 [==============================] - 2s 4ms/step - loss: 0.0305 - accuracy: 0.9918 - val_loss: 0.0644 - val_accuracy: 0.9796\n",
            "Epoch 13/25\n",
            "469/469 [==============================] - 2s 4ms/step - loss: 0.0265 - accuracy: 0.9936 - val_loss: 0.0655 - val_accuracy: 0.9795\n",
            "Epoch 14/25\n",
            "469/469 [==============================] - 2s 3ms/step - loss: 0.0236 - accuracy: 0.9944 - val_loss: 0.0636 - val_accuracy: 0.9795\n",
            "Epoch 15/25\n",
            "469/469 [==============================] - 2s 4ms/step - loss: 0.0202 - accuracy: 0.9959 - val_loss: 0.0625 - val_accuracy: 0.9795\n",
            "Epoch 16/25\n",
            "469/469 [==============================] - 2s 3ms/step - loss: 0.0177 - accuracy: 0.9964 - val_loss: 0.0638 - val_accuracy: 0.9795\n",
            "Epoch 17/25\n",
            "469/469 [==============================] - 2s 3ms/step - loss: 0.0156 - accuracy: 0.9970 - val_loss: 0.0635 - val_accuracy: 0.9797\n",
            "Epoch 18/25\n",
            "469/469 [==============================] - 2s 4ms/step - loss: 0.0135 - accuracy: 0.9978 - val_loss: 0.0634 - val_accuracy: 0.9805\n",
            "Epoch 19/25\n",
            "469/469 [==============================] - 2s 4ms/step - loss: 0.0121 - accuracy: 0.9980 - val_loss: 0.0624 - val_accuracy: 0.9799\n",
            "Epoch 20/25\n",
            "469/469 [==============================] - 2s 3ms/step - loss: 0.0104 - accuracy: 0.9986 - val_loss: 0.0636 - val_accuracy: 0.9805\n",
            "Epoch 21/25\n",
            "469/469 [==============================] - 2s 4ms/step - loss: 0.0090 - accuracy: 0.9991 - val_loss: 0.0617 - val_accuracy: 0.9810\n",
            "Epoch 22/25\n",
            "469/469 [==============================] - 2s 4ms/step - loss: 0.0082 - accuracy: 0.9990 - val_loss: 0.0621 - val_accuracy: 0.9801\n",
            "Epoch 23/25\n",
            "469/469 [==============================] - 2s 4ms/step - loss: 0.0072 - accuracy: 0.9994 - val_loss: 0.0609 - val_accuracy: 0.9809\n",
            "Epoch 24/25\n",
            "469/469 [==============================] - 2s 3ms/step - loss: 0.0064 - accuracy: 0.9995 - val_loss: 0.0639 - val_accuracy: 0.9803\n",
            "Epoch 25/25\n",
            "469/469 [==============================] - 2s 3ms/step - loss: 0.0059 - accuracy: 0.9997 - val_loss: 0.0617 - val_accuracy: 0.9817\n",
            "Test loss: 0.06174740567803383\n",
            "Test accuracy: 0.9817000031471252\n"
          ]
        }
      ]
    },
    {
      "cell_type": "code",
      "metadata": {
        "id": "9_oBDiZbbO0G",
        "colab": {
          "base_uri": "https://localhost:8080/"
        },
        "outputId": "55ce5aab-129d-4d7f-f813-1a35f22a3b9d"
      },
      "source": [
        "print(history.history.keys())"
      ],
      "execution_count": null,
      "outputs": [
        {
          "output_type": "stream",
          "name": "stdout",
          "text": [
            "dict_keys(['loss', 'accuracy', 'val_loss', 'val_accuracy'])\n"
          ]
        }
      ]
    },
    {
      "cell_type": "code",
      "metadata": {
        "id": "K4uLWmxCbaq9"
      },
      "source": [
        "import matplotlib.pyplot as plt\n",
        "\n"
      ],
      "execution_count": null,
      "outputs": []
    },
    {
      "cell_type": "code",
      "metadata": {
        "id": "1wlYhPH9bcz9",
        "colab": {
          "base_uri": "https://localhost:8080/",
          "height": 295
        },
        "outputId": "3d33d037-17ae-4e39-b2f6-cdca657c5747"
      },
      "source": [
        "plt.plot(history.history['accuracy'])\n",
        "plt.plot(history.history['val_accuracy'])\n",
        "plt.title('model accuracy')\n",
        "plt.ylabel('accuracy')\n",
        "plt.xlabel('epoch')\n",
        "plt.legend(['train', 'test'], loc='upper left')\n",
        "plt.show()"
      ],
      "execution_count": null,
      "outputs": [
        {
          "output_type": "display_data",
          "data": {
            "text/plain": [
              "<Figure size 432x288 with 1 Axes>"
            ],
            "image/png": "[encoded data removed]"
          },
          "metadata": {
            "needs_background": "light"
          }
        }
      ]
    },
    {
      "cell_type": "code",
      "source": [
        "#La diferencia al final de la línea train y test indica overfitting. \n",
        "#El train siempre llega casi al 100 %.\n",
        "#En test cuesta más. "
      ],
      "metadata": {
        "id": "OyD4IMhIZcDe"
      },
      "execution_count": null,
      "outputs": []
    }
  ]
}